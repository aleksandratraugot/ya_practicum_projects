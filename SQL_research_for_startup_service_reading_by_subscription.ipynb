{
 "cells": [
  {
   "cell_type": "markdown",
   "metadata": {},
   "source": [
    "# Исследование информации о книгах для стартапа - сервиса для чтения книг по подписке\n",
    "\n",
    "Исследование информации о книгах, издательствах, авторах, а так же пользовательских обзорах содержащейся в БД с **целью** помощи в **формулировке ценностного предложения** для нового продукта - сервиса для чтения книг по подписке.  \n",
    "\n",
    "Задачи:  \n",
    "- подсчет количества книг выпущеных после 1 января 2020;  \n",
    "- подсчет количества обзоров и средней оценки для каждого издания;\n",
    "- идентификация издательства, выпустившего наибольшее число книг толще 50 страниц (для исключения брошюр из анализа);\n",
    "-определение автора с наиболее высокой средней оценкой книг (только для книг с 50 и более оценками);\n",
    "-подсчет среднего количесва обзоров от пользователей (только для пользователей поставивших более 48 оценок)."
   ]
  },
  {
   "cell_type": "markdown",
   "metadata": {},
   "source": [
    "Создаем подключение к базе данных"
   ]
  },
  {
   "cell_type": "code",
   "execution_count": 220,
   "metadata": {},
   "outputs": [],
   "source": [
    "# импортируем библиотеки\n",
    "import pandas as pd\n",
    "from sqlalchemy import text, create_engine"
   ]
  },
  {
   "cell_type": "code",
   "execution_count": 221,
   "metadata": {
    "colab": {
     "base_uri": "https://localhost:8080/",
     "height": 206
    },
    "id": "ipQ1FHe84LOe",
    "outputId": "760912f4-bfb3-4920-9f5d-d3c24c097e96"
   },
   "outputs": [
    {
     "data": {
      "text/html": [
       "<div>\n",
       "<style scoped>\n",
       "    .dataframe tbody tr th:only-of-type {\n",
       "        vertical-align: middle;\n",
       "    }\n",
       "\n",
       "    .dataframe tbody tr th {\n",
       "        vertical-align: top;\n",
       "    }\n",
       "\n",
       "    .dataframe thead th {\n",
       "        text-align: right;\n",
       "    }\n",
       "</style>\n",
       "<table border=\"1\" class=\"dataframe\">\n",
       "  <thead>\n",
       "    <tr style=\"text-align: right;\">\n",
       "      <th></th>\n",
       "      <th>book_id</th>\n",
       "      <th>author_id</th>\n",
       "      <th>title</th>\n",
       "      <th>num_pages</th>\n",
       "      <th>publication_date</th>\n",
       "      <th>publisher_id</th>\n",
       "    </tr>\n",
       "  </thead>\n",
       "  <tbody>\n",
       "    <tr>\n",
       "      <th>0</th>\n",
       "      <td>1</td>\n",
       "      <td>546</td>\n",
       "      <td>'Salem's Lot</td>\n",
       "      <td>594</td>\n",
       "      <td>2005-11-01</td>\n",
       "      <td>93</td>\n",
       "    </tr>\n",
       "    <tr>\n",
       "      <th>1</th>\n",
       "      <td>2</td>\n",
       "      <td>465</td>\n",
       "      <td>1 000 Places to See Before You Die</td>\n",
       "      <td>992</td>\n",
       "      <td>2003-05-22</td>\n",
       "      <td>336</td>\n",
       "    </tr>\n",
       "    <tr>\n",
       "      <th>2</th>\n",
       "      <td>3</td>\n",
       "      <td>407</td>\n",
       "      <td>13 Little Blue Envelopes (Little Blue Envelope...</td>\n",
       "      <td>322</td>\n",
       "      <td>2010-12-21</td>\n",
       "      <td>135</td>\n",
       "    </tr>\n",
       "    <tr>\n",
       "      <th>3</th>\n",
       "      <td>4</td>\n",
       "      <td>82</td>\n",
       "      <td>1491: New Revelations of the Americas Before C...</td>\n",
       "      <td>541</td>\n",
       "      <td>2006-10-10</td>\n",
       "      <td>309</td>\n",
       "    </tr>\n",
       "    <tr>\n",
       "      <th>4</th>\n",
       "      <td>5</td>\n",
       "      <td>125</td>\n",
       "      <td>1776</td>\n",
       "      <td>386</td>\n",
       "      <td>2006-07-04</td>\n",
       "      <td>268</td>\n",
       "    </tr>\n",
       "  </tbody>\n",
       "</table>\n",
       "</div>"
      ],
      "text/plain": [
       "   book_id  author_id                                              title  \\\n",
       "0        1        546                                       'Salem's Lot   \n",
       "1        2        465                 1 000 Places to See Before You Die   \n",
       "2        3        407  13 Little Blue Envelopes (Little Blue Envelope...   \n",
       "3        4         82  1491: New Revelations of the Americas Before C...   \n",
       "4        5        125                                               1776   \n",
       "\n",
       "   num_pages publication_date  publisher_id  \n",
       "0        594       2005-11-01            93  \n",
       "1        992       2003-05-22           336  \n",
       "2        322       2010-12-21           135  \n",
       "3        541       2006-10-10           309  \n",
       "4        386       2006-07-04           268  "
      ]
     },
     "execution_count": 221,
     "metadata": {},
     "output_type": "execute_result"
    }
   ],
   "source": [
    "# устанавливаем параметры\n",
    "db_config = {'user': 'praktikum_student', # имя пользователя\n",
    "'pwd': 'Sdf4$2;d-d30pp', # пароль\n",
    "'host': 'rc1b-wcoijxj3yxfsf3fs.mdb.yandexcloud.net',\n",
    "'port': 6432, # порт подключения\n",
    "'db': 'data-analyst-final-project-db'} # название базы данных\n",
    "connection_string = 'postgresql://{user}:{pwd}@{host}:{port}/{db}'.format(**db_config)\n",
    "\n",
    "# сохраняем коннектор\n",
    "engine = create_engine(connection_string, connect_args={'sslmode':'require'})\n",
    "\n",
    "# чтобы выполнить SQL-запрос, используем Pandas, проверяем корректность работы подключения\n",
    "query = '''SELECT * FROM books LIMIT 5'''\n",
    "\n",
    "con=engine.connect()\n",
    "\n",
    "pd.io.sql.read_sql(sql=text(query), con = con)"
   ]
  },
  {
   "cell_type": "markdown",
   "metadata": {
    "id": "C0z2fdKd-bxV"
   },
   "source": [
    "## Проверка содержания таблиц"
   ]
  },
  {
   "cell_type": "code",
   "execution_count": 222,
   "metadata": {},
   "outputs": [],
   "source": [
    "#создадим список для перебора таблиц в цикле\n",
    "table_list = ['books', 'authors', 'ratings', 'reviews', 'publishers']"
   ]
  },
  {
   "cell_type": "code",
   "execution_count": 223,
   "metadata": {},
   "outputs": [],
   "source": [
    "#функция для просмотра таблиц\n",
    "def open_tab(tab):\n",
    "    print(f'Первые пять строк таблицы {tab}')\n",
    "    query = '''SELECT * FROM {} LIMIT 5'''.format(tab)\n",
    "    con=engine.connect()\n",
    "    display(pd.io.sql.read_sql(sql=text(query), con = con))\n",
    "    print()"
   ]
  },
  {
   "cell_type": "code",
   "execution_count": 225,
   "metadata": {
    "scrolled": false
   },
   "outputs": [
    {
     "name": "stdout",
     "output_type": "stream",
     "text": [
      "Первые пять строк таблицы books\n"
     ]
    },
    {
     "data": {
      "text/html": [
       "<div>\n",
       "<style scoped>\n",
       "    .dataframe tbody tr th:only-of-type {\n",
       "        vertical-align: middle;\n",
       "    }\n",
       "\n",
       "    .dataframe tbody tr th {\n",
       "        vertical-align: top;\n",
       "    }\n",
       "\n",
       "    .dataframe thead th {\n",
       "        text-align: right;\n",
       "    }\n",
       "</style>\n",
       "<table border=\"1\" class=\"dataframe\">\n",
       "  <thead>\n",
       "    <tr style=\"text-align: right;\">\n",
       "      <th></th>\n",
       "      <th>book_id</th>\n",
       "      <th>author_id</th>\n",
       "      <th>title</th>\n",
       "      <th>num_pages</th>\n",
       "      <th>publication_date</th>\n",
       "      <th>publisher_id</th>\n",
       "    </tr>\n",
       "  </thead>\n",
       "  <tbody>\n",
       "    <tr>\n",
       "      <th>0</th>\n",
       "      <td>1</td>\n",
       "      <td>546</td>\n",
       "      <td>'Salem's Lot</td>\n",
       "      <td>594</td>\n",
       "      <td>2005-11-01</td>\n",
       "      <td>93</td>\n",
       "    </tr>\n",
       "    <tr>\n",
       "      <th>1</th>\n",
       "      <td>2</td>\n",
       "      <td>465</td>\n",
       "      <td>1 000 Places to See Before You Die</td>\n",
       "      <td>992</td>\n",
       "      <td>2003-05-22</td>\n",
       "      <td>336</td>\n",
       "    </tr>\n",
       "    <tr>\n",
       "      <th>2</th>\n",
       "      <td>3</td>\n",
       "      <td>407</td>\n",
       "      <td>13 Little Blue Envelopes (Little Blue Envelope...</td>\n",
       "      <td>322</td>\n",
       "      <td>2010-12-21</td>\n",
       "      <td>135</td>\n",
       "    </tr>\n",
       "    <tr>\n",
       "      <th>3</th>\n",
       "      <td>4</td>\n",
       "      <td>82</td>\n",
       "      <td>1491: New Revelations of the Americas Before C...</td>\n",
       "      <td>541</td>\n",
       "      <td>2006-10-10</td>\n",
       "      <td>309</td>\n",
       "    </tr>\n",
       "    <tr>\n",
       "      <th>4</th>\n",
       "      <td>5</td>\n",
       "      <td>125</td>\n",
       "      <td>1776</td>\n",
       "      <td>386</td>\n",
       "      <td>2006-07-04</td>\n",
       "      <td>268</td>\n",
       "    </tr>\n",
       "  </tbody>\n",
       "</table>\n",
       "</div>"
      ],
      "text/plain": [
       "   book_id  author_id                                              title  \\\n",
       "0        1        546                                       'Salem's Lot   \n",
       "1        2        465                 1 000 Places to See Before You Die   \n",
       "2        3        407  13 Little Blue Envelopes (Little Blue Envelope...   \n",
       "3        4         82  1491: New Revelations of the Americas Before C...   \n",
       "4        5        125                                               1776   \n",
       "\n",
       "   num_pages publication_date  publisher_id  \n",
       "0        594       2005-11-01            93  \n",
       "1        992       2003-05-22           336  \n",
       "2        322       2010-12-21           135  \n",
       "3        541       2006-10-10           309  \n",
       "4        386       2006-07-04           268  "
      ]
     },
     "metadata": {},
     "output_type": "display_data"
    },
    {
     "name": "stdout",
     "output_type": "stream",
     "text": [
      "\n",
      "Первые пять строк таблицы authors\n"
     ]
    },
    {
     "data": {
      "text/html": [
       "<div>\n",
       "<style scoped>\n",
       "    .dataframe tbody tr th:only-of-type {\n",
       "        vertical-align: middle;\n",
       "    }\n",
       "\n",
       "    .dataframe tbody tr th {\n",
       "        vertical-align: top;\n",
       "    }\n",
       "\n",
       "    .dataframe thead th {\n",
       "        text-align: right;\n",
       "    }\n",
       "</style>\n",
       "<table border=\"1\" class=\"dataframe\">\n",
       "  <thead>\n",
       "    <tr style=\"text-align: right;\">\n",
       "      <th></th>\n",
       "      <th>author_id</th>\n",
       "      <th>author</th>\n",
       "    </tr>\n",
       "  </thead>\n",
       "  <tbody>\n",
       "    <tr>\n",
       "      <th>0</th>\n",
       "      <td>1</td>\n",
       "      <td>A.S. Byatt</td>\n",
       "    </tr>\n",
       "    <tr>\n",
       "      <th>1</th>\n",
       "      <td>2</td>\n",
       "      <td>Aesop/Laura Harris/Laura Gibbs</td>\n",
       "    </tr>\n",
       "    <tr>\n",
       "      <th>2</th>\n",
       "      <td>3</td>\n",
       "      <td>Agatha Christie</td>\n",
       "    </tr>\n",
       "    <tr>\n",
       "      <th>3</th>\n",
       "      <td>4</td>\n",
       "      <td>Alan Brennert</td>\n",
       "    </tr>\n",
       "    <tr>\n",
       "      <th>4</th>\n",
       "      <td>5</td>\n",
       "      <td>Alan Moore/David   Lloyd</td>\n",
       "    </tr>\n",
       "  </tbody>\n",
       "</table>\n",
       "</div>"
      ],
      "text/plain": [
       "   author_id                          author\n",
       "0          1                      A.S. Byatt\n",
       "1          2  Aesop/Laura Harris/Laura Gibbs\n",
       "2          3                 Agatha Christie\n",
       "3          4                   Alan Brennert\n",
       "4          5        Alan Moore/David   Lloyd"
      ]
     },
     "metadata": {},
     "output_type": "display_data"
    },
    {
     "name": "stdout",
     "output_type": "stream",
     "text": [
      "\n",
      "Первые пять строк таблицы ratings\n"
     ]
    },
    {
     "data": {
      "text/html": [
       "<div>\n",
       "<style scoped>\n",
       "    .dataframe tbody tr th:only-of-type {\n",
       "        vertical-align: middle;\n",
       "    }\n",
       "\n",
       "    .dataframe tbody tr th {\n",
       "        vertical-align: top;\n",
       "    }\n",
       "\n",
       "    .dataframe thead th {\n",
       "        text-align: right;\n",
       "    }\n",
       "</style>\n",
       "<table border=\"1\" class=\"dataframe\">\n",
       "  <thead>\n",
       "    <tr style=\"text-align: right;\">\n",
       "      <th></th>\n",
       "      <th>rating_id</th>\n",
       "      <th>book_id</th>\n",
       "      <th>username</th>\n",
       "      <th>rating</th>\n",
       "    </tr>\n",
       "  </thead>\n",
       "  <tbody>\n",
       "    <tr>\n",
       "      <th>0</th>\n",
       "      <td>1</td>\n",
       "      <td>1</td>\n",
       "      <td>ryanfranco</td>\n",
       "      <td>4</td>\n",
       "    </tr>\n",
       "    <tr>\n",
       "      <th>1</th>\n",
       "      <td>2</td>\n",
       "      <td>1</td>\n",
       "      <td>grantpatricia</td>\n",
       "      <td>2</td>\n",
       "    </tr>\n",
       "    <tr>\n",
       "      <th>2</th>\n",
       "      <td>3</td>\n",
       "      <td>1</td>\n",
       "      <td>brandtandrea</td>\n",
       "      <td>5</td>\n",
       "    </tr>\n",
       "    <tr>\n",
       "      <th>3</th>\n",
       "      <td>4</td>\n",
       "      <td>2</td>\n",
       "      <td>lorichen</td>\n",
       "      <td>3</td>\n",
       "    </tr>\n",
       "    <tr>\n",
       "      <th>4</th>\n",
       "      <td>5</td>\n",
       "      <td>2</td>\n",
       "      <td>mariokeller</td>\n",
       "      <td>2</td>\n",
       "    </tr>\n",
       "  </tbody>\n",
       "</table>\n",
       "</div>"
      ],
      "text/plain": [
       "   rating_id  book_id       username  rating\n",
       "0          1        1     ryanfranco       4\n",
       "1          2        1  grantpatricia       2\n",
       "2          3        1   brandtandrea       5\n",
       "3          4        2       lorichen       3\n",
       "4          5        2    mariokeller       2"
      ]
     },
     "metadata": {},
     "output_type": "display_data"
    },
    {
     "name": "stdout",
     "output_type": "stream",
     "text": [
      "\n",
      "Первые пять строк таблицы reviews\n"
     ]
    },
    {
     "data": {
      "text/html": [
       "<div>\n",
       "<style scoped>\n",
       "    .dataframe tbody tr th:only-of-type {\n",
       "        vertical-align: middle;\n",
       "    }\n",
       "\n",
       "    .dataframe tbody tr th {\n",
       "        vertical-align: top;\n",
       "    }\n",
       "\n",
       "    .dataframe thead th {\n",
       "        text-align: right;\n",
       "    }\n",
       "</style>\n",
       "<table border=\"1\" class=\"dataframe\">\n",
       "  <thead>\n",
       "    <tr style=\"text-align: right;\">\n",
       "      <th></th>\n",
       "      <th>review_id</th>\n",
       "      <th>book_id</th>\n",
       "      <th>username</th>\n",
       "      <th>text</th>\n",
       "    </tr>\n",
       "  </thead>\n",
       "  <tbody>\n",
       "    <tr>\n",
       "      <th>0</th>\n",
       "      <td>1</td>\n",
       "      <td>1</td>\n",
       "      <td>brandtandrea</td>\n",
       "      <td>Mention society tell send professor analysis. ...</td>\n",
       "    </tr>\n",
       "    <tr>\n",
       "      <th>1</th>\n",
       "      <td>2</td>\n",
       "      <td>1</td>\n",
       "      <td>ryanfranco</td>\n",
       "      <td>Foot glass pretty audience hit themselves. Amo...</td>\n",
       "    </tr>\n",
       "    <tr>\n",
       "      <th>2</th>\n",
       "      <td>3</td>\n",
       "      <td>2</td>\n",
       "      <td>lorichen</td>\n",
       "      <td>Listen treat keep worry. Miss husband tax but ...</td>\n",
       "    </tr>\n",
       "    <tr>\n",
       "      <th>3</th>\n",
       "      <td>4</td>\n",
       "      <td>3</td>\n",
       "      <td>johnsonamanda</td>\n",
       "      <td>Finally month interesting blue could nature cu...</td>\n",
       "    </tr>\n",
       "    <tr>\n",
       "      <th>4</th>\n",
       "      <td>5</td>\n",
       "      <td>3</td>\n",
       "      <td>scotttamara</td>\n",
       "      <td>Nation purpose heavy give wait song will. List...</td>\n",
       "    </tr>\n",
       "  </tbody>\n",
       "</table>\n",
       "</div>"
      ],
      "text/plain": [
       "   review_id  book_id       username  \\\n",
       "0          1        1   brandtandrea   \n",
       "1          2        1     ryanfranco   \n",
       "2          3        2       lorichen   \n",
       "3          4        3  johnsonamanda   \n",
       "4          5        3    scotttamara   \n",
       "\n",
       "                                                text  \n",
       "0  Mention society tell send professor analysis. ...  \n",
       "1  Foot glass pretty audience hit themselves. Amo...  \n",
       "2  Listen treat keep worry. Miss husband tax but ...  \n",
       "3  Finally month interesting blue could nature cu...  \n",
       "4  Nation purpose heavy give wait song will. List...  "
      ]
     },
     "metadata": {},
     "output_type": "display_data"
    },
    {
     "name": "stdout",
     "output_type": "stream",
     "text": [
      "\n",
      "Первые пять строк таблицы publishers\n"
     ]
    },
    {
     "data": {
      "text/html": [
       "<div>\n",
       "<style scoped>\n",
       "    .dataframe tbody tr th:only-of-type {\n",
       "        vertical-align: middle;\n",
       "    }\n",
       "\n",
       "    .dataframe tbody tr th {\n",
       "        vertical-align: top;\n",
       "    }\n",
       "\n",
       "    .dataframe thead th {\n",
       "        text-align: right;\n",
       "    }\n",
       "</style>\n",
       "<table border=\"1\" class=\"dataframe\">\n",
       "  <thead>\n",
       "    <tr style=\"text-align: right;\">\n",
       "      <th></th>\n",
       "      <th>publisher_id</th>\n",
       "      <th>publisher</th>\n",
       "    </tr>\n",
       "  </thead>\n",
       "  <tbody>\n",
       "    <tr>\n",
       "      <th>0</th>\n",
       "      <td>1</td>\n",
       "      <td>Ace</td>\n",
       "    </tr>\n",
       "    <tr>\n",
       "      <th>1</th>\n",
       "      <td>2</td>\n",
       "      <td>Ace Book</td>\n",
       "    </tr>\n",
       "    <tr>\n",
       "      <th>2</th>\n",
       "      <td>3</td>\n",
       "      <td>Ace Books</td>\n",
       "    </tr>\n",
       "    <tr>\n",
       "      <th>3</th>\n",
       "      <td>4</td>\n",
       "      <td>Ace Hardcover</td>\n",
       "    </tr>\n",
       "    <tr>\n",
       "      <th>4</th>\n",
       "      <td>5</td>\n",
       "      <td>Addison Wesley Publishing Company</td>\n",
       "    </tr>\n",
       "  </tbody>\n",
       "</table>\n",
       "</div>"
      ],
      "text/plain": [
       "   publisher_id                          publisher\n",
       "0             1                                Ace\n",
       "1             2                           Ace Book\n",
       "2             3                          Ace Books\n",
       "3             4                      Ace Hardcover\n",
       "4             5  Addison Wesley Publishing Company"
      ]
     },
     "metadata": {},
     "output_type": "display_data"
    },
    {
     "name": "stdout",
     "output_type": "stream",
     "text": [
      "\n"
     ]
    }
   ],
   "source": [
    "#вызываем в цикле каждую таблицу\n",
    "for tab in table_list:\n",
    "    open_tab(tab)"
   ]
  },
  {
   "cell_type": "markdown",
   "metadata": {},
   "source": [
    "## Ответы на вопросы"
   ]
  },
  {
   "cell_type": "markdown",
   "metadata": {
    "id": "gX09tTeTaCcG"
   },
   "source": [
    "**Задача 1:** Cколько книг вышло после 1 января 2000 года"
   ]
  },
  {
   "cell_type": "code",
   "execution_count": 226,
   "metadata": {
    "colab": {
     "base_uri": "https://localhost:8080/",
     "height": 89
    },
    "id": "t4YsciNsGSQM",
    "outputId": "e121fdc0-a553-435f-cca2-314921dda12d"
   },
   "outputs": [
    {
     "data": {
      "text/html": [
       "<div>\n",
       "<style scoped>\n",
       "    .dataframe tbody tr th:only-of-type {\n",
       "        vertical-align: middle;\n",
       "    }\n",
       "\n",
       "    .dataframe tbody tr th {\n",
       "        vertical-align: top;\n",
       "    }\n",
       "\n",
       "    .dataframe thead th {\n",
       "        text-align: right;\n",
       "    }\n",
       "</style>\n",
       "<table border=\"1\" class=\"dataframe\">\n",
       "  <thead>\n",
       "    <tr style=\"text-align: right;\">\n",
       "      <th></th>\n",
       "      <th>count</th>\n",
       "    </tr>\n",
       "  </thead>\n",
       "  <tbody>\n",
       "    <tr>\n",
       "      <th>0</th>\n",
       "      <td>819</td>\n",
       "    </tr>\n",
       "  </tbody>\n",
       "</table>\n",
       "</div>"
      ],
      "text/plain": [
       "   count\n",
       "0    819"
      ]
     },
     "execution_count": 226,
     "metadata": {},
     "output_type": "execute_result"
    }
   ],
   "source": [
    "query = '''SELECT COUNT(DISTINCT(book_id))\n",
    "          FROM books as b\n",
    "          WHERE b.publication_date > '2000-01-01';'''\n",
    "con=engine.connect()\n",
    "pd.io.sql.read_sql(sql=text(query), con = con)"
   ]
  },
  {
   "cell_type": "markdown",
   "metadata": {
    "id": "Cc_vetK7aafA"
   },
   "source": [
    "**Задача 2:** Для каждой книги посчитайте количество обзоров и среднюю оценку"
   ]
  },
  {
   "cell_type": "code",
   "execution_count": 228,
   "metadata": {},
   "outputs": [
    {
     "name": "stdout",
     "output_type": "stream",
     "text": [
      "Количество обзоров и средняя оценка для книг\n"
     ]
    },
    {
     "data": {
      "text/html": [
       "<div>\n",
       "<style scoped>\n",
       "    .dataframe tbody tr th:only-of-type {\n",
       "        vertical-align: middle;\n",
       "    }\n",
       "\n",
       "    .dataframe tbody tr th {\n",
       "        vertical-align: top;\n",
       "    }\n",
       "\n",
       "    .dataframe thead th {\n",
       "        text-align: right;\n",
       "    }\n",
       "</style>\n",
       "<table border=\"1\" class=\"dataframe\">\n",
       "  <thead>\n",
       "    <tr style=\"text-align: right;\">\n",
       "      <th></th>\n",
       "      <th>title</th>\n",
       "      <th>book_id</th>\n",
       "      <th>review_cnt</th>\n",
       "      <th>avg_rating</th>\n",
       "    </tr>\n",
       "  </thead>\n",
       "  <tbody>\n",
       "    <tr>\n",
       "      <th>0</th>\n",
       "      <td>Twilight (Twilight  #1)</td>\n",
       "      <td>948</td>\n",
       "      <td>7</td>\n",
       "      <td>3.00</td>\n",
       "    </tr>\n",
       "    <tr>\n",
       "      <th>1</th>\n",
       "      <td>Eat  Pray  Love</td>\n",
       "      <td>207</td>\n",
       "      <td>6</td>\n",
       "      <td>3.00</td>\n",
       "    </tr>\n",
       "    <tr>\n",
       "      <th>2</th>\n",
       "      <td>Harry Potter and the Chamber of Secrets (Harry...</td>\n",
       "      <td>299</td>\n",
       "      <td>6</td>\n",
       "      <td>3.00</td>\n",
       "    </tr>\n",
       "    <tr>\n",
       "      <th>3</th>\n",
       "      <td>Harry Potter and the Prisoner of Azkaban (Harr...</td>\n",
       "      <td>302</td>\n",
       "      <td>6</td>\n",
       "      <td>3.50</td>\n",
       "    </tr>\n",
       "    <tr>\n",
       "      <th>4</th>\n",
       "      <td>Outlander (Outlander  #1)</td>\n",
       "      <td>497</td>\n",
       "      <td>6</td>\n",
       "      <td>3.25</td>\n",
       "    </tr>\n",
       "    <tr>\n",
       "      <th>...</th>\n",
       "      <td>...</td>\n",
       "      <td>...</td>\n",
       "      <td>...</td>\n",
       "      <td>...</td>\n",
       "    </tr>\n",
       "    <tr>\n",
       "      <th>995</th>\n",
       "      <td>Disney's Beauty and the Beast (A Little Golden...</td>\n",
       "      <td>191</td>\n",
       "      <td>0</td>\n",
       "      <td>4.00</td>\n",
       "    </tr>\n",
       "    <tr>\n",
       "      <th>996</th>\n",
       "      <td>Essential Tales and Poems</td>\n",
       "      <td>221</td>\n",
       "      <td>0</td>\n",
       "      <td>4.00</td>\n",
       "    </tr>\n",
       "    <tr>\n",
       "      <th>997</th>\n",
       "      <td>Leonardo's Notebooks</td>\n",
       "      <td>387</td>\n",
       "      <td>0</td>\n",
       "      <td>4.00</td>\n",
       "    </tr>\n",
       "    <tr>\n",
       "      <th>998</th>\n",
       "      <td>The Cat in the Hat and Other Dr. Seuss Favorites</td>\n",
       "      <td>672</td>\n",
       "      <td>0</td>\n",
       "      <td>5.00</td>\n",
       "    </tr>\n",
       "    <tr>\n",
       "      <th>999</th>\n",
       "      <td>The Natural Way to Draw</td>\n",
       "      <td>808</td>\n",
       "      <td>0</td>\n",
       "      <td>3.00</td>\n",
       "    </tr>\n",
       "  </tbody>\n",
       "</table>\n",
       "<p>1000 rows × 4 columns</p>\n",
       "</div>"
      ],
      "text/plain": [
       "                                                 title  book_id  review_cnt  \\\n",
       "0                              Twilight (Twilight  #1)      948           7   \n",
       "1                                      Eat  Pray  Love      207           6   \n",
       "2    Harry Potter and the Chamber of Secrets (Harry...      299           6   \n",
       "3    Harry Potter and the Prisoner of Azkaban (Harr...      302           6   \n",
       "4                            Outlander (Outlander  #1)      497           6   \n",
       "..                                                 ...      ...         ...   \n",
       "995  Disney's Beauty and the Beast (A Little Golden...      191           0   \n",
       "996                          Essential Tales and Poems      221           0   \n",
       "997                               Leonardo's Notebooks      387           0   \n",
       "998   The Cat in the Hat and Other Dr. Seuss Favorites      672           0   \n",
       "999                            The Natural Way to Draw      808           0   \n",
       "\n",
       "     avg_rating  \n",
       "0          3.00  \n",
       "1          3.00  \n",
       "2          3.00  \n",
       "3          3.50  \n",
       "4          3.25  \n",
       "..          ...  \n",
       "995        4.00  \n",
       "996        4.00  \n",
       "997        4.00  \n",
       "998        5.00  \n",
       "999        3.00  \n",
       "\n",
       "[1000 rows x 4 columns]"
      ]
     },
     "execution_count": 228,
     "metadata": {},
     "output_type": "execute_result"
    }
   ],
   "source": [
    "print('Количество обзоров и средняя оценка для книг')\n",
    "query = '''SELECT DISTINCT(b.title) as title,\n",
    "                b.book_id as book_id,\n",
    "                  COUNT(DISTINCT(rev.review_id)) AS review_cnt,\n",
    "                  AVG(DISTINCT(rat.rating)) as avg_rating\n",
    "          FROM books AS b\n",
    "          FULL OUTER JOIN ratings AS rat ON b.book_id = rat.book_id\n",
    "          FULL OUTER JOIN reviews AS rev ON b.book_id = rev.book_id\n",
    "          GROUP BY b.book_id\n",
    "          ORDER BY COUNT(DISTINCT(rev.review_id)) DESC;'''\n",
    "con=engine.connect()\n",
    "pd.io.sql.read_sql(sql=text(query), con = con)"
   ]
  },
  {
   "cell_type": "code",
   "execution_count": 229,
   "metadata": {},
   "outputs": [
    {
     "name": "stdout",
     "output_type": "stream",
     "text": [
      "Количество уникальных наименований и идентификаторов в таблице books\n"
     ]
    },
    {
     "data": {
      "text/html": [
       "<div>\n",
       "<style scoped>\n",
       "    .dataframe tbody tr th:only-of-type {\n",
       "        vertical-align: middle;\n",
       "    }\n",
       "\n",
       "    .dataframe tbody tr th {\n",
       "        vertical-align: top;\n",
       "    }\n",
       "\n",
       "    .dataframe thead th {\n",
       "        text-align: right;\n",
       "    }\n",
       "</style>\n",
       "<table border=\"1\" class=\"dataframe\">\n",
       "  <thead>\n",
       "    <tr style=\"text-align: right;\">\n",
       "      <th></th>\n",
       "      <th>cnt_unique_title</th>\n",
       "      <th>cnt_unique_book_id_in_books</th>\n",
       "    </tr>\n",
       "  </thead>\n",
       "  <tbody>\n",
       "    <tr>\n",
       "      <th>0</th>\n",
       "      <td>999</td>\n",
       "      <td>1000</td>\n",
       "    </tr>\n",
       "  </tbody>\n",
       "</table>\n",
       "</div>"
      ],
      "text/plain": [
       "   cnt_unique_title  cnt_unique_book_id_in_books\n",
       "0               999                         1000"
      ]
     },
     "execution_count": 229,
     "metadata": {},
     "output_type": "execute_result"
    }
   ],
   "source": [
    "print('Количество уникальных наименований и идентификаторов в таблице books')\n",
    "query = '''SELECT COUNT(DISTINCT(b.title)) as cnt_unique_title,\n",
    "                  COUNT(DISTINCT(b.book_id)) as cnt_unique_book_id_in_books\n",
    "          FROM books AS b;'''\n",
    "con=engine.connect()\n",
    "pd.io.sql.read_sql(sql=text(query), con = con)"
   ]
  },
  {
   "cell_type": "code",
   "execution_count": 230,
   "metadata": {},
   "outputs": [
    {
     "name": "stdout",
     "output_type": "stream",
     "text": [
      "Количество уникальных идентификаторов в таблице reviews\n"
     ]
    },
    {
     "data": {
      "text/html": [
       "<div>\n",
       "<style scoped>\n",
       "    .dataframe tbody tr th:only-of-type {\n",
       "        vertical-align: middle;\n",
       "    }\n",
       "\n",
       "    .dataframe tbody tr th {\n",
       "        vertical-align: top;\n",
       "    }\n",
       "\n",
       "    .dataframe thead th {\n",
       "        text-align: right;\n",
       "    }\n",
       "</style>\n",
       "<table border=\"1\" class=\"dataframe\">\n",
       "  <thead>\n",
       "    <tr style=\"text-align: right;\">\n",
       "      <th></th>\n",
       "      <th>cnt_unique_book_id_in_reviews</th>\n",
       "    </tr>\n",
       "  </thead>\n",
       "  <tbody>\n",
       "    <tr>\n",
       "      <th>0</th>\n",
       "      <td>994</td>\n",
       "    </tr>\n",
       "  </tbody>\n",
       "</table>\n",
       "</div>"
      ],
      "text/plain": [
       "   cnt_unique_book_id_in_reviews\n",
       "0                            994"
      ]
     },
     "execution_count": 230,
     "metadata": {},
     "output_type": "execute_result"
    }
   ],
   "source": [
    "print('Количество уникальных идентификаторов в таблице reviews')\n",
    "query = '''SELECT COUNT(DISTINCT(rev.book_id)) as cnt_unique_book_id_in_reviews\n",
    "          FROM reviews AS rev;'''\n",
    "con=engine.connect()\n",
    "pd.io.sql.read_sql(sql=text(query), con = con)"
   ]
  },
  {
   "cell_type": "code",
   "execution_count": 231,
   "metadata": {},
   "outputs": [
    {
     "name": "stdout",
     "output_type": "stream",
     "text": [
      "Количество уникальных обзоров в таблице reviews с самым большим числом обзоров\n"
     ]
    },
    {
     "data": {
      "text/html": [
       "<div>\n",
       "<style scoped>\n",
       "    .dataframe tbody tr th:only-of-type {\n",
       "        vertical-align: middle;\n",
       "    }\n",
       "\n",
       "    .dataframe tbody tr th {\n",
       "        vertical-align: top;\n",
       "    }\n",
       "\n",
       "    .dataframe thead th {\n",
       "        text-align: right;\n",
       "    }\n",
       "</style>\n",
       "<table border=\"1\" class=\"dataframe\">\n",
       "  <thead>\n",
       "    <tr style=\"text-align: right;\">\n",
       "      <th></th>\n",
       "      <th>book_id</th>\n",
       "      <th>cnt_reviews</th>\n",
       "    </tr>\n",
       "  </thead>\n",
       "  <tbody>\n",
       "    <tr>\n",
       "      <th>0</th>\n",
       "      <td>948</td>\n",
       "      <td>7</td>\n",
       "    </tr>\n",
       "  </tbody>\n",
       "</table>\n",
       "</div>"
      ],
      "text/plain": [
       "   book_id  cnt_reviews\n",
       "0      948            7"
      ]
     },
     "execution_count": 231,
     "metadata": {},
     "output_type": "execute_result"
    }
   ],
   "source": [
    "print('Количество уникальных обзоров в таблице reviews с самым большим числом обзоров')\n",
    "query = '''SELECT DISTINCT(rev.book_id) as book_id,\n",
    "                COUNT(DISTINCT(rev.review_id)) as cnt_reviews\n",
    "          FROM reviews AS rev\n",
    "          GROUP BY rev.book_id\n",
    "          ORDER BY cnt_reviews DESC\n",
    "          LIMIT 1;'''\n",
    "con=engine.connect()\n",
    "pd.io.sql.read_sql(sql=text(query), con = con)"
   ]
  },
  {
   "cell_type": "markdown",
   "metadata": {
    "id": "suxyurAkbeqF"
   },
   "source": [
    "**Задача 3:** Определите издательство, которое выпустило наибольшее число книг толще 50 страниц — так вы исключите из анализа брошюры"
   ]
  },
  {
   "cell_type": "code",
   "execution_count": 232,
   "metadata": {
    "colab": {
     "base_uri": "https://localhost:8080/",
     "height": 89
    },
    "id": "ayi-wy58GiKK",
    "outputId": "d63233b6-76c2-49fa-92cf-cb8c80907693"
   },
   "outputs": [
    {
     "data": {
      "text/html": [
       "<div>\n",
       "<style scoped>\n",
       "    .dataframe tbody tr th:only-of-type {\n",
       "        vertical-align: middle;\n",
       "    }\n",
       "\n",
       "    .dataframe tbody tr th {\n",
       "        vertical-align: top;\n",
       "    }\n",
       "\n",
       "    .dataframe thead th {\n",
       "        text-align: right;\n",
       "    }\n",
       "</style>\n",
       "<table border=\"1\" class=\"dataframe\">\n",
       "  <thead>\n",
       "    <tr style=\"text-align: right;\">\n",
       "      <th></th>\n",
       "      <th>publisher</th>\n",
       "      <th>books_cnt</th>\n",
       "    </tr>\n",
       "  </thead>\n",
       "  <tbody>\n",
       "    <tr>\n",
       "      <th>0</th>\n",
       "      <td>Penguin Books</td>\n",
       "      <td>42</td>\n",
       "    </tr>\n",
       "  </tbody>\n",
       "</table>\n",
       "</div>"
      ],
      "text/plain": [
       "       publisher  books_cnt\n",
       "0  Penguin Books         42"
      ]
     },
     "execution_count": 232,
     "metadata": {},
     "output_type": "execute_result"
    }
   ],
   "source": [
    "query = '''SELECT DISTINCT(p.publisher) as publisher,\n",
    "                  COUNT(b.book_id) as books_cnt\n",
    "          FROM books AS b\n",
    "          JOIN publishers AS p ON b.publisher_id = p.publisher_id\n",
    "          WHERE b.num_pages > 50\n",
    "          GROUP BY p.publisher\n",
    "          ORDER BY COUNT(b.book_id) DESC\n",
    "          LIMIT 1;'''\n",
    "con=engine.connect()\n",
    "pd.io.sql.read_sql(sql=text(query), con = con)"
   ]
  },
  {
   "cell_type": "markdown",
   "metadata": {
    "id": "RC0vY94cbixS"
   },
   "source": [
    "**Задача 4:** Определите автора с самой высокой средней оценкой книг — учитывайте только книги с 50 и более оценками"
   ]
  },
  {
   "cell_type": "code",
   "execution_count": 234,
   "metadata": {},
   "outputs": [
    {
     "data": {
      "text/html": [
       "<div>\n",
       "<style scoped>\n",
       "    .dataframe tbody tr th:only-of-type {\n",
       "        vertical-align: middle;\n",
       "    }\n",
       "\n",
       "    .dataframe tbody tr th {\n",
       "        vertical-align: top;\n",
       "    }\n",
       "\n",
       "    .dataframe thead th {\n",
       "        text-align: right;\n",
       "    }\n",
       "</style>\n",
       "<table border=\"1\" class=\"dataframe\">\n",
       "  <thead>\n",
       "    <tr style=\"text-align: right;\">\n",
       "      <th></th>\n",
       "      <th>author</th>\n",
       "      <th>avg_rating</th>\n",
       "    </tr>\n",
       "  </thead>\n",
       "  <tbody>\n",
       "    <tr>\n",
       "      <th>0</th>\n",
       "      <td>J.K. Rowling/Mary GrandPré</td>\n",
       "      <td>4.287097</td>\n",
       "    </tr>\n",
       "  </tbody>\n",
       "</table>\n",
       "</div>"
      ],
      "text/plain": [
       "                       author  avg_rating\n",
       "0  J.K. Rowling/Mary GrandPré    4.287097"
      ]
     },
     "execution_count": 234,
     "metadata": {},
     "output_type": "execute_result"
    }
   ],
   "source": [
    "query = '''SELECT DISTINCT(au.author) as author,\n",
    "                  AVG(rat.rating) as avg_rating\n",
    "          FROM authors AS au \n",
    "          JOIN books AS b ON au.author_id = b.author_id\n",
    "          JOIN ratings AS rat ON b.book_id = rat.book_id\n",
    "          WHERE b.book_id IN (SELECT DISTINCT(book_id) as book_id\n",
    "                              FROM ratings as rat\n",
    "                              GROUP BY book_id\n",
    "                              HAVING COUNT(DISTINCT(rat.rating_id)) >= 50)\n",
    "          GROUP BY au.author\n",
    "          ORDER BY AVG(rat.rating) DESC\n",
    "          LIMIT 1;'''\n",
    "con=engine.connect()\n",
    "pd.io.sql.read_sql(sql=text(query), con = con)"
   ]
  },
  {
   "cell_type": "markdown",
   "metadata": {
    "id": "6QYR1TkxbkjS"
   },
   "source": [
    "**Задача 5:** Посчитайте среднее количество обзоров от пользователей, которые поставили больше 48 оценок"
   ]
  },
  {
   "cell_type": "code",
   "execution_count": 235,
   "metadata": {
    "colab": {
     "base_uri": "https://localhost:8080/",
     "height": 89
    },
    "id": "CYGZcLO6VJf_",
    "outputId": "2d9e61a6-b5ee-42c3-ca29-02d4c9f338b9"
   },
   "outputs": [
    {
     "data": {
      "text/html": [
       "<div>\n",
       "<style scoped>\n",
       "    .dataframe tbody tr th:only-of-type {\n",
       "        vertical-align: middle;\n",
       "    }\n",
       "\n",
       "    .dataframe tbody tr th {\n",
       "        vertical-align: top;\n",
       "    }\n",
       "\n",
       "    .dataframe thead th {\n",
       "        text-align: right;\n",
       "    }\n",
       "</style>\n",
       "<table border=\"1\" class=\"dataframe\">\n",
       "  <thead>\n",
       "    <tr style=\"text-align: right;\">\n",
       "      <th></th>\n",
       "      <th>avg_cnt</th>\n",
       "    </tr>\n",
       "  </thead>\n",
       "  <tbody>\n",
       "    <tr>\n",
       "      <th>0</th>\n",
       "      <td>24.0</td>\n",
       "    </tr>\n",
       "  </tbody>\n",
       "</table>\n",
       "</div>"
      ],
      "text/plain": [
       "   avg_cnt\n",
       "0     24.0"
      ]
     },
     "execution_count": 235,
     "metadata": {},
     "output_type": "execute_result"
    }
   ],
   "source": [
    "query = '''SELECT ROUND(AVG(rev.cnt)) AS avg_cnt\n",
    "          FROM (SELECT reviews.username,\n",
    "                      COUNT(review_id) AS cnt\n",
    "                FROM reviews\n",
    "                GROUP BY reviews.username) as rev\n",
    "          WHERE username in (SELECT rat.username\n",
    "                              FROM ratings as rat\n",
    "                              GROUP BY rat.username\n",
    "                              HAVING COUNT(DISTINCT(rat.rating_id)) > 48);'''\n",
    "con=engine.connect()\n",
    "pd.io.sql.read_sql(sql=text(query), con = con)"
   ]
  },
  {
   "cell_type": "markdown",
   "metadata": {
    "id": "ZtPR5AJSbl-H"
   },
   "source": [
    "## Вывод:  \n",
    "1. После 1 января 2000 года вышло 819 книг.  \n",
    "2. В БД содержатся данные о 1000 изданиях. Количество ревью и средние рейтинги могут быть самыми разными. При этом количество наименований 999, а количество ревью 944, т.е. для некоторых книг обзоры отсутствуют.    \n",
    "3. Издательство выпустившее наибольшее количество книг не считая брошюр - Penguin Books (42 книги).\n",
    "4. Автор с наиболее высокой средней оценкой из тех что были оценены 50 и более раз: J.K. Rowling/Mary GrandPré, средний рейтинг 4.28.    \n",
    "5. Среднее количество обзоров от пользователей, среди поставивших больше 48 оценок - 24."
   ]
  }
 ],
 "metadata": {
  "ExecuteTimeLog": [
   {
    "duration": 11,
    "start_time": "2023-08-25T07:33:09.729Z"
   },
   {
    "duration": 170,
    "start_time": "2023-08-25T07:33:14.604Z"
   },
   {
    "duration": 64,
    "start_time": "2023-08-25T07:33:54.871Z"
   },
   {
    "duration": 566,
    "start_time": "2023-08-25T07:34:12.143Z"
   },
   {
    "duration": 26430,
    "start_time": "2023-08-25T07:34:13.045Z"
   },
   {
    "duration": 4,
    "start_time": "2023-08-25T07:34:43.301Z"
   },
   {
    "duration": 33,
    "start_time": "2023-08-25T07:34:45.184Z"
   },
   {
    "duration": 2,
    "start_time": "2023-08-25T07:34:55.373Z"
   },
   {
    "duration": 7,
    "start_time": "2023-08-25T07:34:56.613Z"
   },
   {
    "duration": 173,
    "start_time": "2023-08-25T07:35:24.747Z"
   },
   {
    "duration": 4,
    "start_time": "2023-08-25T07:35:33.112Z"
   },
   {
    "duration": 272,
    "start_time": "2023-08-25T07:35:34.169Z"
   },
   {
    "duration": 4,
    "start_time": "2023-08-25T07:35:57.385Z"
   },
   {
    "duration": 207,
    "start_time": "2023-08-25T07:35:58.395Z"
   },
   {
    "duration": 4,
    "start_time": "2023-08-25T07:37:36.351Z"
   },
   {
    "duration": 9,
    "start_time": "2023-08-25T07:37:38.574Z"
   },
   {
    "duration": 161,
    "start_time": "2023-08-25T07:38:00.782Z"
   },
   {
    "duration": 4,
    "start_time": "2023-08-25T07:38:21.296Z"
   },
   {
    "duration": 64,
    "start_time": "2023-08-25T07:38:23.318Z"
   },
   {
    "duration": 3,
    "start_time": "2023-08-25T07:38:38.662Z"
   },
   {
    "duration": 74,
    "start_time": "2023-08-25T07:38:39.477Z"
   },
   {
    "duration": 7,
    "start_time": "2023-08-25T07:38:47.203Z"
   },
   {
    "duration": 4,
    "start_time": "2023-08-25T07:39:02.112Z"
   },
   {
    "duration": 12,
    "start_time": "2023-08-25T07:39:03.214Z"
   },
   {
    "duration": 8,
    "start_time": "2023-08-25T07:45:13.042Z"
   },
   {
    "duration": 11,
    "start_time": "2023-08-25T07:46:50.436Z"
   },
   {
    "duration": 7,
    "start_time": "2023-08-25T07:46:55.280Z"
   },
   {
    "duration": 8,
    "start_time": "2023-08-25T07:46:59.253Z"
   },
   {
    "duration": 94,
    "start_time": "2023-08-25T07:47:52.902Z"
   },
   {
    "duration": 3,
    "start_time": "2023-08-25T07:47:58.402Z"
   },
   {
    "duration": 7,
    "start_time": "2023-08-25T07:48:00.444Z"
   },
   {
    "duration": 3,
    "start_time": "2023-08-25T07:48:08.063Z"
   },
   {
    "duration": 306,
    "start_time": "2023-08-25T07:48:08.068Z"
   },
   {
    "duration": 7,
    "start_time": "2023-08-25T07:48:08.376Z"
   },
   {
    "duration": 0,
    "start_time": "2023-08-25T07:48:08.385Z"
   },
   {
    "duration": 0,
    "start_time": "2023-08-25T07:48:08.386Z"
   },
   {
    "duration": 0,
    "start_time": "2023-08-25T07:48:08.387Z"
   },
   {
    "duration": 0,
    "start_time": "2023-08-25T07:48:08.388Z"
   },
   {
    "duration": 0,
    "start_time": "2023-08-25T07:48:08.389Z"
   },
   {
    "duration": 0,
    "start_time": "2023-08-25T07:48:08.391Z"
   },
   {
    "duration": 0,
    "start_time": "2023-08-25T07:48:08.391Z"
   },
   {
    "duration": 0,
    "start_time": "2023-08-25T07:48:08.392Z"
   },
   {
    "duration": 0,
    "start_time": "2023-08-25T07:48:08.393Z"
   },
   {
    "duration": 0,
    "start_time": "2023-08-25T07:48:08.394Z"
   },
   {
    "duration": 0,
    "start_time": "2023-08-25T07:48:08.395Z"
   },
   {
    "duration": 0,
    "start_time": "2023-08-25T07:48:08.396Z"
   },
   {
    "duration": 3,
    "start_time": "2023-08-25T07:48:57.351Z"
   },
   {
    "duration": 8,
    "start_time": "2023-08-25T07:49:38.971Z"
   },
   {
    "duration": 6,
    "start_time": "2023-08-25T07:50:30.416Z"
   },
   {
    "duration": 309,
    "start_time": "2023-08-25T07:50:30.424Z"
   },
   {
    "duration": 2,
    "start_time": "2023-08-25T07:50:30.735Z"
   },
   {
    "duration": 15,
    "start_time": "2023-08-25T07:50:30.739Z"
   },
   {
    "duration": 24,
    "start_time": "2023-08-25T07:50:30.755Z"
   },
   {
    "duration": 0,
    "start_time": "2023-08-25T07:50:30.781Z"
   },
   {
    "duration": 0,
    "start_time": "2023-08-25T07:50:30.782Z"
   },
   {
    "duration": 0,
    "start_time": "2023-08-25T07:50:30.783Z"
   },
   {
    "duration": 0,
    "start_time": "2023-08-25T07:50:30.784Z"
   },
   {
    "duration": 0,
    "start_time": "2023-08-25T07:50:30.786Z"
   },
   {
    "duration": 0,
    "start_time": "2023-08-25T07:50:30.787Z"
   },
   {
    "duration": 0,
    "start_time": "2023-08-25T07:50:30.788Z"
   },
   {
    "duration": 0,
    "start_time": "2023-08-25T07:50:30.789Z"
   },
   {
    "duration": 0,
    "start_time": "2023-08-25T07:50:30.790Z"
   },
   {
    "duration": 2,
    "start_time": "2023-08-25T08:00:57.536Z"
   },
   {
    "duration": 252,
    "start_time": "2023-08-25T08:00:57.542Z"
   },
   {
    "duration": 4,
    "start_time": "2023-08-25T08:00:57.797Z"
   },
   {
    "duration": 10,
    "start_time": "2023-08-25T08:00:57.804Z"
   },
   {
    "duration": 7,
    "start_time": "2023-08-25T08:00:57.817Z"
   },
   {
    "duration": 169,
    "start_time": "2023-08-25T08:00:57.826Z"
   },
   {
    "duration": 58,
    "start_time": "2023-08-25T08:00:57.998Z"
   },
   {
    "duration": 60,
    "start_time": "2023-08-25T08:00:58.059Z"
   },
   {
    "duration": 63,
    "start_time": "2023-08-25T08:00:58.121Z"
   },
   {
    "duration": 57,
    "start_time": "2023-08-25T08:00:58.186Z"
   },
   {
    "duration": 103,
    "start_time": "2023-08-25T08:00:58.246Z"
   },
   {
    "duration": 60,
    "start_time": "2023-08-25T08:00:58.352Z"
   },
   {
    "duration": 68,
    "start_time": "2023-08-25T08:00:58.414Z"
   },
   {
    "duration": 64,
    "start_time": "2023-08-25T08:00:58.484Z"
   },
   {
    "duration": 54,
    "start_time": "2023-08-25T08:03:08.403Z"
   },
   {
    "duration": 54,
    "start_time": "2023-08-25T08:04:00.046Z"
   },
   {
    "duration": 4,
    "start_time": "2023-08-25T08:08:09.462Z"
   },
   {
    "duration": 82,
    "start_time": "2023-08-25T08:08:19.000Z"
   },
   {
    "duration": 70,
    "start_time": "2023-08-25T08:08:42.282Z"
   },
   {
    "duration": 114,
    "start_time": "2023-08-25T08:37:18.976Z"
   },
   {
    "duration": 79,
    "start_time": "2023-08-25T08:37:33.443Z"
   },
   {
    "duration": 94,
    "start_time": "2023-08-25T08:37:42.304Z"
   },
   {
    "duration": 173,
    "start_time": "2023-08-25T08:37:51.986Z"
   },
   {
    "duration": 78,
    "start_time": "2023-08-25T08:38:02.822Z"
   },
   {
    "duration": 73,
    "start_time": "2023-08-25T08:38:35.841Z"
   },
   {
    "duration": 163,
    "start_time": "2023-08-25T08:39:56.804Z"
   },
   {
    "duration": 162,
    "start_time": "2023-08-25T08:54:51.332Z"
   },
   {
    "duration": 150,
    "start_time": "2023-08-25T08:59:37.166Z"
   },
   {
    "duration": 169,
    "start_time": "2023-08-25T09:09:30.881Z"
   },
   {
    "duration": 269,
    "start_time": "2023-08-25T09:09:57.170Z"
   },
   {
    "duration": 279,
    "start_time": "2023-08-25T09:10:06.358Z"
   },
   {
    "duration": 12,
    "start_time": "2023-08-25T09:10:34.277Z"
   },
   {
    "duration": 12,
    "start_time": "2023-08-25T09:10:42.564Z"
   },
   {
    "duration": 266,
    "start_time": "2023-08-25T09:11:00.962Z"
   },
   {
    "duration": 16,
    "start_time": "2023-08-25T09:11:09.783Z"
   },
   {
    "duration": 298,
    "start_time": "2023-08-25T09:13:46.099Z"
   },
   {
    "duration": 4,
    "start_time": "2023-08-25T09:13:57.075Z"
   },
   {
    "duration": 7,
    "start_time": "2023-08-25T09:14:10.620Z"
   },
   {
    "duration": 261,
    "start_time": "2023-08-25T09:14:11.401Z"
   },
   {
    "duration": 3,
    "start_time": "2023-08-25T09:14:51.303Z"
   },
   {
    "duration": 268,
    "start_time": "2023-08-25T09:14:52.235Z"
   },
   {
    "duration": 4,
    "start_time": "2023-08-25T09:15:39.072Z"
   },
   {
    "duration": 245,
    "start_time": "2023-08-25T09:15:39.549Z"
   },
   {
    "duration": 11,
    "start_time": "2023-08-25T09:15:49.531Z"
   },
   {
    "duration": 249,
    "start_time": "2023-08-25T09:15:50.666Z"
   },
   {
    "duration": 6,
    "start_time": "2023-08-25T09:17:25.243Z"
   },
   {
    "duration": 252,
    "start_time": "2023-08-25T09:17:26.030Z"
   },
   {
    "duration": 3,
    "start_time": "2023-08-25T09:17:49.601Z"
   },
   {
    "duration": 247,
    "start_time": "2023-08-25T09:17:51.178Z"
   },
   {
    "duration": 5,
    "start_time": "2023-08-25T09:18:20.653Z"
   },
   {
    "duration": 251,
    "start_time": "2023-08-25T09:18:21.950Z"
   },
   {
    "duration": 4,
    "start_time": "2023-08-25T09:19:21.647Z"
   },
   {
    "duration": 296,
    "start_time": "2023-08-25T09:19:22.653Z"
   },
   {
    "duration": 4,
    "start_time": "2023-08-25T09:20:46.602Z"
   },
   {
    "duration": 3,
    "start_time": "2023-08-25T09:21:11.784Z"
   },
   {
    "duration": 381,
    "start_time": "2023-08-25T09:21:12.832Z"
   },
   {
    "duration": 4,
    "start_time": "2023-08-25T09:23:33.602Z"
   },
   {
    "duration": 353,
    "start_time": "2023-08-25T09:23:34.406Z"
   },
   {
    "duration": 7,
    "start_time": "2023-08-25T09:26:41.457Z"
   },
   {
    "duration": 3,
    "start_time": "2023-08-25T09:26:45.416Z"
   },
   {
    "duration": 3,
    "start_time": "2023-08-25T09:26:45.857Z"
   },
   {
    "duration": 33,
    "start_time": "2023-08-25T09:26:46.322Z"
   },
   {
    "duration": 8,
    "start_time": "2023-08-25T09:27:03.563Z"
   },
   {
    "duration": 319,
    "start_time": "2023-08-25T09:27:22.294Z"
   },
   {
    "duration": 8,
    "start_time": "2023-08-25T09:27:46.401Z"
   },
   {
    "duration": 14,
    "start_time": "2023-08-25T09:27:51.942Z"
   },
   {
    "duration": 89,
    "start_time": "2023-08-25T09:27:57.122Z"
   },
   {
    "duration": 3,
    "start_time": "2023-08-25T09:36:01.596Z"
   },
   {
    "duration": 5,
    "start_time": "2023-08-25T09:36:02.721Z"
   },
   {
    "duration": 357,
    "start_time": "2023-08-25T09:36:03.081Z"
   },
   {
    "duration": 2,
    "start_time": "2023-08-25T09:37:59.957Z"
   },
   {
    "duration": 3,
    "start_time": "2023-08-25T09:39:14.789Z"
   },
   {
    "duration": 272,
    "start_time": "2023-08-25T09:39:15.513Z"
   },
   {
    "duration": 80,
    "start_time": "2023-08-25T09:49:53.279Z"
   },
   {
    "duration": 4,
    "start_time": "2023-08-25T09:50:00.184Z"
   },
   {
    "duration": 290,
    "start_time": "2023-08-25T09:50:01.716Z"
   },
   {
    "duration": 71,
    "start_time": "2023-08-25T09:50:02.654Z"
   },
   {
    "duration": 254,
    "start_time": "2023-08-25T09:50:17.353Z"
   },
   {
    "duration": 415,
    "start_time": "2023-08-25T09:50:18.358Z"
   },
   {
    "duration": 75,
    "start_time": "2023-08-25T09:50:19.289Z"
   },
   {
    "duration": 4,
    "start_time": "2023-08-25T09:51:04.561Z"
   },
   {
    "duration": 299,
    "start_time": "2023-08-25T09:51:05.594Z"
   },
   {
    "duration": 67,
    "start_time": "2023-08-25T09:51:06.431Z"
   },
   {
    "duration": 4,
    "start_time": "2023-08-25T09:51:47.717Z"
   },
   {
    "duration": 375,
    "start_time": "2023-08-25T09:51:49.545Z"
   },
   {
    "duration": 80,
    "start_time": "2023-08-25T09:51:50.493Z"
   },
   {
    "duration": 5,
    "start_time": "2023-08-25T09:51:59.344Z"
   },
   {
    "duration": 4,
    "start_time": "2023-08-25T09:52:05.272Z"
   },
   {
    "duration": 262,
    "start_time": "2023-08-25T09:52:07.617Z"
   },
   {
    "duration": 4,
    "start_time": "2023-08-25T09:52:27.392Z"
   },
   {
    "duration": 345,
    "start_time": "2023-08-25T09:52:28.463Z"
   },
   {
    "duration": 84,
    "start_time": "2023-08-25T09:52:29.266Z"
   },
   {
    "duration": 5,
    "start_time": "2023-08-25T09:52:41.552Z"
   },
   {
    "duration": 294,
    "start_time": "2023-08-25T09:52:42.258Z"
   },
   {
    "duration": 431,
    "start_time": "2023-08-25T09:52:43.322Z"
   },
   {
    "duration": 4,
    "start_time": "2023-08-25T09:55:50.316Z"
   },
   {
    "duration": 68,
    "start_time": "2023-08-25T09:55:53.362Z"
   },
   {
    "duration": 3,
    "start_time": "2023-08-25T09:56:11.877Z"
   },
   {
    "duration": 87,
    "start_time": "2023-08-25T09:56:15.376Z"
   },
   {
    "duration": 4,
    "start_time": "2023-08-25T09:56:24.055Z"
   },
   {
    "duration": 67,
    "start_time": "2023-08-25T09:56:27.342Z"
   },
   {
    "duration": 3,
    "start_time": "2023-08-25T09:58:04.966Z"
   },
   {
    "duration": 282,
    "start_time": "2023-08-25T09:58:04.974Z"
   },
   {
    "duration": 7,
    "start_time": "2023-08-25T09:58:05.259Z"
   },
   {
    "duration": 41,
    "start_time": "2023-08-25T09:58:05.268Z"
   },
   {
    "duration": 30,
    "start_time": "2023-08-25T09:58:05.311Z"
   },
   {
    "duration": 239,
    "start_time": "2023-08-25T09:58:05.344Z"
   },
   {
    "duration": 0,
    "start_time": "2023-08-25T09:58:05.586Z"
   },
   {
    "duration": 0,
    "start_time": "2023-08-25T09:58:05.587Z"
   },
   {
    "duration": 0,
    "start_time": "2023-08-25T09:58:05.588Z"
   },
   {
    "duration": 0,
    "start_time": "2023-08-25T09:58:05.590Z"
   },
   {
    "duration": 0,
    "start_time": "2023-08-25T09:58:05.592Z"
   },
   {
    "duration": 0,
    "start_time": "2023-08-25T09:58:05.593Z"
   },
   {
    "duration": 0,
    "start_time": "2023-08-25T09:58:05.594Z"
   },
   {
    "duration": 0,
    "start_time": "2023-08-25T09:58:05.595Z"
   },
   {
    "duration": 438,
    "start_time": "2023-08-25T10:11:29.705Z"
   },
   {
    "duration": 459,
    "start_time": "2023-08-25T10:11:38.253Z"
   },
   {
    "duration": 3,
    "start_time": "2023-08-25T10:12:27.851Z"
   },
   {
    "duration": 4,
    "start_time": "2023-08-25T10:31:02.154Z"
   },
   {
    "duration": 335,
    "start_time": "2023-08-25T10:31:02.169Z"
   },
   {
    "duration": 3,
    "start_time": "2023-08-25T10:31:02.506Z"
   },
   {
    "duration": 15,
    "start_time": "2023-08-25T10:31:02.511Z"
   },
   {
    "duration": 11,
    "start_time": "2023-08-25T10:31:02.528Z"
   },
   {
    "duration": 396,
    "start_time": "2023-08-25T10:31:02.543Z"
   },
   {
    "duration": 60,
    "start_time": "2023-08-25T10:31:02.941Z"
   },
   {
    "duration": 3,
    "start_time": "2023-08-25T10:31:03.003Z"
   },
   {
    "duration": 107,
    "start_time": "2023-08-25T10:31:03.007Z"
   },
   {
    "duration": 60,
    "start_time": "2023-08-25T10:31:03.116Z"
   },
   {
    "duration": 68,
    "start_time": "2023-08-25T10:31:03.179Z"
   },
   {
    "duration": 57,
    "start_time": "2023-08-25T10:31:03.251Z"
   },
   {
    "duration": 3,
    "start_time": "2023-08-25T10:31:03.310Z"
   },
   {
    "duration": 92,
    "start_time": "2023-08-25T10:31:03.316Z"
   },
   {
    "duration": 82,
    "start_time": "2023-08-25T10:31:03.410Z"
   },
   {
    "duration": 3,
    "start_time": "2023-08-25T10:33:22.164Z"
   },
   {
    "duration": 429,
    "start_time": "2023-08-25T10:33:22.169Z"
   },
   {
    "duration": 3,
    "start_time": "2023-08-25T10:33:22.599Z"
   },
   {
    "duration": 45,
    "start_time": "2023-08-25T10:33:22.604Z"
   },
   {
    "duration": 10,
    "start_time": "2023-08-25T10:33:22.652Z"
   },
   {
    "duration": 413,
    "start_time": "2023-08-25T10:33:22.664Z"
   },
   {
    "duration": 60,
    "start_time": "2023-08-25T10:33:23.079Z"
   },
   {
    "duration": 108,
    "start_time": "2023-08-25T10:33:23.142Z"
   },
   {
    "duration": 221,
    "start_time": "2023-08-25T10:33:23.253Z"
   },
   {
    "duration": 79,
    "start_time": "2023-08-25T10:33:23.477Z"
   },
   {
    "duration": 141,
    "start_time": "2023-08-25T10:33:23.558Z"
   },
   {
    "duration": 68,
    "start_time": "2023-08-25T10:33:23.701Z"
   },
   {
    "duration": 2,
    "start_time": "2023-08-25T10:33:23.770Z"
   },
   {
    "duration": 93,
    "start_time": "2023-08-25T10:33:23.774Z"
   },
   {
    "duration": 66,
    "start_time": "2023-08-25T10:33:23.870Z"
   },
   {
    "duration": 86,
    "start_time": "2023-08-25T10:34:33.455Z"
   },
   {
    "duration": 105,
    "start_time": "2023-08-25T10:34:40.984Z"
   },
   {
    "duration": 246,
    "start_time": "2023-08-25T10:37:21.317Z"
   },
   {
    "duration": 63,
    "start_time": "2023-08-25T10:37:50.707Z"
   },
   {
    "duration": 191,
    "start_time": "2023-08-25T10:38:17.187Z"
   },
   {
    "duration": 87,
    "start_time": "2023-08-25T10:38:30.977Z"
   },
   {
    "duration": 186,
    "start_time": "2023-08-25T10:39:13.513Z"
   },
   {
    "duration": 208,
    "start_time": "2023-08-25T10:39:54.940Z"
   },
   {
    "duration": 110,
    "start_time": "2023-08-25T10:40:41.699Z"
   },
   {
    "duration": 105,
    "start_time": "2023-08-25T10:40:49.289Z"
   },
   {
    "duration": 84,
    "start_time": "2023-08-25T10:41:00.824Z"
   },
   {
    "duration": 251,
    "start_time": "2023-08-25T10:41:18.521Z"
   },
   {
    "duration": 113,
    "start_time": "2023-08-25T10:43:02.386Z"
   },
   {
    "duration": 81,
    "start_time": "2023-08-25T10:43:08.689Z"
   },
   {
    "duration": 90,
    "start_time": "2023-08-25T10:43:13.795Z"
   },
   {
    "duration": 115,
    "start_time": "2023-08-25T10:44:05.990Z"
   },
   {
    "duration": 119,
    "start_time": "2023-08-25T10:44:24.058Z"
   },
   {
    "duration": 232,
    "start_time": "2023-08-25T10:44:45.657Z"
   },
   {
    "duration": 63,
    "start_time": "2023-08-25T10:46:07.464Z"
   },
   {
    "duration": 3,
    "start_time": "2023-08-25T10:48:58.687Z"
   },
   {
    "duration": 3,
    "start_time": "2023-08-25T10:50:11.381Z"
   },
   {
    "duration": 388,
    "start_time": "2023-08-25T10:50:11.386Z"
   },
   {
    "duration": 3,
    "start_time": "2023-08-25T10:50:11.776Z"
   },
   {
    "duration": 46,
    "start_time": "2023-08-25T10:50:11.781Z"
   },
   {
    "duration": 49,
    "start_time": "2023-08-25T10:50:11.833Z"
   },
   {
    "duration": 586,
    "start_time": "2023-08-25T10:50:11.887Z"
   },
   {
    "duration": 70,
    "start_time": "2023-08-25T10:50:12.475Z"
   },
   {
    "duration": 13,
    "start_time": "2023-08-25T10:50:12.547Z"
   },
   {
    "duration": 238,
    "start_time": "2023-08-25T10:50:12.562Z"
   },
   {
    "duration": 100,
    "start_time": "2023-08-25T10:50:12.802Z"
   },
   {
    "duration": 115,
    "start_time": "2023-08-25T10:50:12.904Z"
   },
   {
    "duration": 98,
    "start_time": "2023-08-25T10:50:13.021Z"
   },
   {
    "duration": 160,
    "start_time": "2023-08-25T10:50:13.121Z"
   },
   {
    "duration": 2,
    "start_time": "2023-08-25T10:50:13.284Z"
   },
   {
    "duration": 95,
    "start_time": "2023-08-25T10:50:13.288Z"
   },
   {
    "duration": 91,
    "start_time": "2023-08-25T10:50:13.385Z"
   },
   {
    "duration": 125,
    "start_time": "2023-08-25T10:51:17.122Z"
   },
   {
    "duration": 85,
    "start_time": "2023-08-25T10:54:25.597Z"
   },
   {
    "duration": 5,
    "start_time": "2023-08-25T10:55:09.464Z"
   },
   {
    "duration": 447,
    "start_time": "2023-08-25T10:55:09.471Z"
   },
   {
    "duration": 2,
    "start_time": "2023-08-25T10:55:09.920Z"
   },
   {
    "duration": 17,
    "start_time": "2023-08-25T10:55:09.924Z"
   },
   {
    "duration": 5,
    "start_time": "2023-08-25T10:55:09.944Z"
   },
   {
    "duration": 565,
    "start_time": "2023-08-25T10:55:09.951Z"
   },
   {
    "duration": 91,
    "start_time": "2023-08-25T10:55:10.518Z"
   },
   {
    "duration": 2,
    "start_time": "2023-08-25T10:55:10.611Z"
   },
   {
    "duration": 182,
    "start_time": "2023-08-25T10:55:10.615Z"
   },
   {
    "duration": 86,
    "start_time": "2023-08-25T10:55:10.798Z"
   },
   {
    "duration": 97,
    "start_time": "2023-08-25T10:55:10.886Z"
   },
   {
    "duration": 103,
    "start_time": "2023-08-25T10:55:10.985Z"
   },
   {
    "duration": 95,
    "start_time": "2023-08-25T10:55:11.090Z"
   },
   {
    "duration": 3,
    "start_time": "2023-08-25T10:55:11.188Z"
   },
   {
    "duration": 90,
    "start_time": "2023-08-25T10:55:11.193Z"
   },
   {
    "duration": 70,
    "start_time": "2023-08-25T10:55:11.285Z"
   },
   {
    "duration": 120,
    "start_time": "2023-08-25T10:56:33.979Z"
   }
  ],
  "colab": {
   "provenance": []
  },
  "kernelspec": {
   "display_name": "Python 3 (ipykernel)",
   "language": "python",
   "name": "python3"
  },
  "language_info": {
   "codemirror_mode": {
    "name": "ipython",
    "version": 3
   },
   "file_extension": ".py",
   "mimetype": "text/x-python",
   "name": "python",
   "nbconvert_exporter": "python",
   "pygments_lexer": "ipython3",
   "version": "3.9.13"
  },
  "toc": {
   "base_numbering": 1,
   "nav_menu": {},
   "number_sections": true,
   "sideBar": true,
   "skip_h1_title": true,
   "title_cell": "Table of Contents",
   "title_sidebar": "Contents",
   "toc_cell": false,
   "toc_position": {},
   "toc_section_display": true,
   "toc_window_display": false
  }
 },
 "nbformat": 4,
 "nbformat_minor": 1
}
